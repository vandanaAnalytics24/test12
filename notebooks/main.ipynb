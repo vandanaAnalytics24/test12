{
 "cells": [
  {
   "cell_type": "markdown",
   "metadata": {},
   "source": [
    "# Introduction\n",
    "\n",
    "Hi there! 👋\n",
    "\n",
    "This is a *guided* tutorial to help you learn GitHub Copilot.\n",
    "\n",
    "In this Notebook, we will use [Python](https://www.python.org/) to build a **rock, paper, scissors** game! 🎲\n",
    "\n",
    "> **Note**: The [*Magic commands*](https://ipython.readthedocs.io/en/stable/interactive/magics.html) included in this Notebook are of no importance for this tutorial.<br>\n",
    "> They merely serve as a medium to add code to/run the [main.py](./main.py) file.\n",
    "\n",
    "- [Introduction](#introduction)\n",
    "- [Prompting Copilot](#prompting-copilot)\n",
    "  - [Setting the context](#setting-the-context)\n",
    "  - [Importing a module](#importing-a-module)\n",
    "  - [Adding the main logic](#adding-the-main-logic)\n",
    "  - [Calling the main function](#calling-the-main-function)\n",
    "- [Running the game](#runing-the-game)\n",
    "- [Conclusion](#conclusion)"
   ]
  },
  {
   "cell_type": "markdown",
   "metadata": {},
   "source": [
    "# Prompting Copilot\n",
    "\n",
    "## Setting the context\n",
    "\n",
    "Let's give GitHub Copilot some context about what we're building by adding a comment as seen in the cell below.\n",
    "\n",
    "1. **Press the ▶️ button** on the cell below to add a context comment to the first line of the [main.py](../main.py) file."
   ]
  },
  {
   "cell_type": "code",
   "execution_count": null,
   "metadata": {},
   "outputs": [],
   "source": [
    "%%writefile ../main.py --append\n",
    "# Write a rock, paper, scissors game"
   ]
  },
  {
   "cell_type": "markdown",
   "metadata": {},
   "source": [
    "## Importing a module\n",
    "\n",
    "Let's prompt Copilot to import the `random` module by adding a comment as seen in the cell below.\n",
    "\n",
    "1. **Press ENTER ⏎ at the end of the comment** and wait for Copilot's suggestions.<br> Copilot will then offer to add `import random` to the code.\n",
    "\n",
    "2. **Press TAB to accept Copilot's suggestion**.\n",
    "\n",
    "3. **Press the ▶️ button** on the cell below to add this to the [main.py](../main.py) file."
   ]
  },
  {
   "cell_type": "code",
   "execution_count": null,
   "metadata": {},
   "outputs": [],
   "source": [
    "%%writefile ../main.py --append\n",
    "# import random module"
   ]
  },
  {
   "cell_type": "markdown",
   "metadata": {},
   "source": [
    "## Adding the main logic\n",
    "\n",
    "Let's prompt Copilot to create a `main` function that handles the logic of the game by adding a comment as seen in the cell below.\n",
    "\n",
    "You will now learn how to toggle Copilot's suggestions a useful skill to learn to always pick the suggestion that best meets your needs!\n",
    "\n",
    "1. **Press ENTER ⏎ at the end of the comment** and wait for Copilot's suggestions.\n",
    "\n",
    "2. **Press TAB to accept Copilot's suggestion**.\n",
    "\n",
    "3. **Wait until the Copilot icon stops spinning** (lower right corner of VSCode) and you should see another code suggestion.\n",
    "\n",
    "4. **Open the Copilot suggestions panel** and choose the suggestion that seems more appropriate (usually the first).\n",
    "\n",
    "5. **Press the ▶️ button** on the cell below to add this to the [main.py](../main.py) file."
   ]
  },
  {
   "cell_type": "code",
   "execution_count": null,
   "metadata": {},
   "outputs": [],
   "source": [
    "%%writefile ../main.py --append\n",
    "# define main function that handles all the logic"
   ]
  },
  {
   "cell_type": "markdown",
   "metadata": {},
   "source": [
    "## Calling the main function\n",
    "\n",
    "Let's prompt Copilot to call the `main` function by adding a comment as seen in the cell below.\n",
    "\n",
    "1. **Press ENTER ⏎ at the end of the comment** and wait for Copilot's suggestions.<br> Copilot will then offer to add `main()` to the code.\n",
    "\n",
    "2. **Press TAB** to accept Copilot's suggestion.\n",
    "\n",
    "3. **Press the ▶️ button** on the cell below to add this to the [main.py](../main.py) file."
   ]
  },
  {
   "cell_type": "code",
   "execution_count": null,
   "metadata": {},
   "outputs": [],
   "source": [
    "%%writefile ../main.py --append\n",
    "# call main function"
   ]
  },
  {
   "cell_type": "markdown",
   "metadata": {},
   "source": [
    "## Running the game\n",
    "\n",
    "Let's run the code to see if it works.\n",
    "\n",
    "1. **Press the ▶️ button** on the cell below to execute the [main.py](../main.py) file.<br> This is equivalent to running `python ../main.py` in the terminal.\n",
    "\n",
    "It should start the rock, paper, scissors game."
   ]
  },
  {
   "cell_type": "code",
   "execution_count": null,
   "metadata": {},
   "outputs": [],
   "source": [
    "%run ../main.py"
   ]
  },
  {
   "cell_type": "markdown",
   "metadata": {},
   "source": [
    "# Conclusion\n",
    "\n",
    "Congrats! 🎉 You just generated a fully functional game by simply **prompting Copilot** with a few comments.\n",
    "\n",
    "You should by now be able to directly apply your newly acquired skills without the help of a Notebook.\n",
    "\n",
    "Just go to your projects and prompt Copilot directly in your code, CLI or via Chat.\n",
    "\n",
    "For more on Copilot, please visit the [Copilot Documentation](https://docs.github.com/en/copilot)."
   ]
  }
 ],
 "metadata": {
  "kernelspec": {
   "display_name": "Python 3",
   "language": "python",
   "name": "python3"
  },
  "language_info": {
   "codemirror_mode": {
    "name": "ipython",
    "version": 3
   },
   "file_extension": ".py",
   "mimetype": "text/x-python",
   "name": "python",
   "nbconvert_exporter": "python",
   "pygments_lexer": "ipython3",
   "version": "3.9.6"
  }
 },
 "nbformat": 4,
 "nbformat_minor": 2
}
